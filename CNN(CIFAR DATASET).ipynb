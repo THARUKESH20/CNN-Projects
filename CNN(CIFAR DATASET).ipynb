{
 "cells": [
  {
   "cell_type": "code",
   "execution_count": 1,
   "id": "238bc43e",
   "metadata": {},
   "outputs": [
    {
     "name": "stdout",
     "output_type": "stream",
     "text": [
      "WARNING:tensorflow:From C:\\Users\\tharukesh\\.designer\\Anaconda\\Lib\\site-packages\\keras\\src\\losses.py:2976: The name tf.losses.sparse_softmax_cross_entropy is deprecated. Please use tf.compat.v1.losses.sparse_softmax_cross_entropy instead.\n",
      "\n"
     ]
    }
   ],
   "source": [
    "import numpy as np\n",
    "import pandas as pd\n",
    "import matplotlib.pyplot as plt\n",
    "from tensorflow import keras\n",
    "from tensorflow.keras import models,datasets,layers"
   ]
  },
  {
   "cell_type": "code",
   "execution_count": 3,
   "id": "c8e5267d",
   "metadata": {},
   "outputs": [],
   "source": [
    "(x_train,y_train), (x_test,y_test) = datasets.cifar10.load_data()"
   ]
  },
  {
   "cell_type": "code",
   "execution_count": 4,
   "id": "4b274af0",
   "metadata": {},
   "outputs": [
    {
     "data": {
      "text/plain": [
       "(50000, 32, 32, 3)"
      ]
     },
     "execution_count": 4,
     "metadata": {},
     "output_type": "execute_result"
    }
   ],
   "source": [
    "x_train.shape"
   ]
  },
  {
   "cell_type": "code",
   "execution_count": 5,
   "id": "089980d6",
   "metadata": {},
   "outputs": [
    {
     "data": {
      "text/plain": [
       "4"
      ]
     },
     "execution_count": 5,
     "metadata": {},
     "output_type": "execute_result"
    }
   ],
   "source": [
    "len(x_train.shape)"
   ]
  },
  {
   "cell_type": "code",
   "execution_count": 6,
   "id": "6a758ad3",
   "metadata": {},
   "outputs": [
    {
     "data": {
      "text/plain": [
       "array([[6],\n",
       "       [9],\n",
       "       [9],\n",
       "       [4],\n",
       "       [1]], dtype=uint8)"
      ]
     },
     "execution_count": 6,
     "metadata": {},
     "output_type": "execute_result"
    }
   ],
   "source": [
    "y_train[:5]"
   ]
  },
  {
   "cell_type": "code",
   "execution_count": 7,
   "id": "57c07414",
   "metadata": {},
   "outputs": [
    {
     "data": {
      "text/plain": [
       "(50000, 1)"
      ]
     },
     "execution_count": 7,
     "metadata": {},
     "output_type": "execute_result"
    }
   ],
   "source": [
    "y_train.shape"
   ]
  },
  {
   "cell_type": "code",
   "execution_count": 8,
   "id": "aa544bb5",
   "metadata": {},
   "outputs": [],
   "source": [
    "y_train = y_train.reshape(-1,)"
   ]
  },
  {
   "cell_type": "code",
   "execution_count": 9,
   "id": "9f253026",
   "metadata": {},
   "outputs": [
    {
     "data": {
      "text/plain": [
       "array([6, 9, 9, 4, 1], dtype=uint8)"
      ]
     },
     "execution_count": 9,
     "metadata": {},
     "output_type": "execute_result"
    }
   ],
   "source": [
    "y_train[:5]"
   ]
  },
  {
   "cell_type": "code",
   "execution_count": 10,
   "id": "7da25167",
   "metadata": {},
   "outputs": [],
   "source": [
    "classes=[\"airplane\",\"automobile\",\"bird\",\"cat\",\"deer\",\"dog\",\"frog\",\"horse\",\"ship\",\"truck\"]"
   ]
  },
  {
   "cell_type": "code",
   "execution_count": 11,
   "id": "b39f11c5",
   "metadata": {},
   "outputs": [
    {
     "data": {
      "text/plain": [
       "['airplane',\n",
       " 'automobile',\n",
       " 'bird',\n",
       " 'cat',\n",
       " 'deer',\n",
       " 'dog',\n",
       " 'frog',\n",
       " 'horse',\n",
       " 'ship',\n",
       " 'truck']"
      ]
     },
     "execution_count": 11,
     "metadata": {},
     "output_type": "execute_result"
    }
   ],
   "source": [
    "classes"
   ]
  },
  {
   "cell_type": "code",
   "execution_count": 14,
   "id": "c813201c",
   "metadata": {},
   "outputs": [],
   "source": [
    "def plot_sample(x, y , index):\n",
    "    plt.figure(figsize=(15,2))\n",
    "    plt.imshow(x[index])\n",
    "    plt.xlabel(classes[y[index]])"
   ]
  },
  {
   "cell_type": "code",
   "execution_count": 15,
   "id": "e277ce4d",
   "metadata": {},
   "outputs": [
    {
     "data": {
      "image/png": "[encoded data removed]",
      "text/plain": [
       "<Figure size 1500x200 with 1 Axes>"
      ]
     },
     "metadata": {},
     "output_type": "display_data"
    }
   ],
   "source": [
    "plot_sample(x_train,y_train, 0)"
   ]
  },
  {
   "cell_type": "code",
   "execution_count": 16,
   "id": "8ec7deb0",
   "metadata": {},
   "outputs": [
    {
     "data": {
      "image/png": "[encoded data removed]",
      "text/plain": [
       "<Figure size 1500x200 with 1 Axes>"
      ]
     },
     "metadata": {},
     "output_type": "display_data"
    }
   ],
   "source": [
    "plot_sample(x_train, y_train, 2)"
   ]
  },
  {
   "cell_type": "code",
   "execution_count": 18,
   "id": "7901cb85",
   "metadata": {},
   "outputs": [],
   "source": [
    "x_train = x_train/255.0\n",
    "x_test = x_test/255.0"
   ]
  },
  {
   "cell_type": "code",
   "execution_count": 28,
   "id": "a9005ff9",
   "metadata": {},
   "outputs": [],
   "source": [
    "ann = models.Sequential([\n",
    "    layers.Flatten(input_shape=(32,32,3)),\n",
    "    layers.Dense(3000, activation='relu'),\n",
    "    layers.Dense(1000, activation ='relu'),\n",
    "    layers.Dense(10, activation='softmax')\n",
    "])"
   ]
  },
  {
   "cell_type": "code",
   "execution_count": 29,
   "id": "ee8e041b",
   "metadata": {},
   "outputs": [],
   "source": [
    "ann.compile(optimizer='SGD', loss= 'sparse_categorical_crossentropy', metrics=['accuracy'])"
   ]
  },
  {
   "cell_type": "code",
   "execution_count": 30,
   "id": "cdbad938",
   "metadata": {},
   "outputs": [
    {
     "name": "stdout",
     "output_type": "stream",
     "text": [
      "Epoch 1/5\n",
      "1563/1563 [==============================] - 50s 32ms/step - loss: 2.3007 - accuracy: 0.1307\n",
      "Epoch 2/5\n",
      "1563/1563 [==============================] - 50s 32ms/step - loss: 2.2997 - accuracy: 0.1335\n",
      "Epoch 3/5\n",
      "1563/1563 [==============================] - 50s 32ms/step - loss: 2.2989 - accuracy: 0.1436\n",
      "Epoch 4/5\n",
      "1563/1563 [==============================] - 51s 33ms/step - loss: 2.2979 - accuracy: 0.1555\n",
      "Epoch 5/5\n",
      "1563/1563 [==============================] - 50s 32ms/step - loss: 2.2968 - accuracy: 0.1526\n"
     ]
    },
    {
     "data": {
      "text/plain": [
       "<keras.src.callbacks.History at 0x12b11a89990>"
      ]
     },
     "execution_count": 30,
     "metadata": {},
     "output_type": "execute_result"
    }
   ],
   "source": [
    "ann.fit(x_train,y_train, epochs=5)"
   ]
  },
  {
   "cell_type": "code",
   "execution_count": 26,
   "id": "3ee9bfbe",
   "metadata": {},
   "outputs": [],
   "source": [
    "from sklearn.metrics import classification_report, confusion_matrix"
   ]
  },
  {
   "cell_type": "code",
   "execution_count": 27,
   "id": "c4c51c31",
   "metadata": {},
   "outputs": [
    {
     "name": "stdout",
     "output_type": "stream",
     "text": [
      "313/313 [==============================] - 4s 12ms/step\n",
      "Classification Report               precision    recall  f1-score   support\n",
      "\n",
      "           0       0.21      0.56      0.30      1000\n",
      "           1       0.00      0.00      0.00      1000\n",
      "           2       0.00      0.00      0.00      1000\n",
      "           3       0.15      0.16      0.16      1000\n",
      "           4       0.00      0.00      0.00      1000\n",
      "           5       0.15      0.53      0.23      1000\n",
      "           6       0.00      0.00      0.00      1000\n",
      "           7       0.00      0.00      0.00      1000\n",
      "           8       0.23      0.61      0.34      1000\n",
      "           9       0.42      0.02      0.03      1000\n",
      "\n",
      "    accuracy                           0.19     10000\n",
      "   macro avg       0.12      0.19      0.11     10000\n",
      "weighted avg       0.12      0.19      0.11     10000\n",
      "\n"
     ]
    },
    {
     "name": "stderr",
     "output_type": "stream",
     "text": [
      "C:\\Users\\tharukesh\\.designer\\Anaconda\\Lib\\site-packages\\sklearn\\metrics\\_classification.py:1469: UndefinedMetricWarning: Precision and F-score are ill-defined and being set to 0.0 in labels with no predicted samples. Use `zero_division` parameter to control this behavior.\n",
      "  _warn_prf(average, modifier, msg_start, len(result))\n",
      "C:\\Users\\tharukesh\\.designer\\Anaconda\\Lib\\site-packages\\sklearn\\metrics\\_classification.py:1469: UndefinedMetricWarning: Precision and F-score are ill-defined and being set to 0.0 in labels with no predicted samples. Use `zero_division` parameter to control this behavior.\n",
      "  _warn_prf(average, modifier, msg_start, len(result))\n",
      "C:\\Users\\tharukesh\\.designer\\Anaconda\\Lib\\site-packages\\sklearn\\metrics\\_classification.py:1469: UndefinedMetricWarning: Precision and F-score are ill-defined and being set to 0.0 in labels with no predicted samples. Use `zero_division` parameter to control this behavior.\n",
      "  _warn_prf(average, modifier, msg_start, len(result))\n"
     ]
    }
   ],
   "source": [
    "y_pred = ann.predict(x_test)\n",
    "y_pred_classes= [np.argmax(element) for element in y_pred]\n",
    "print(\"Classification Report\", classification_report(y_test,y_pred_classes))"
   ]
  },
  {
   "cell_type": "code",
   "execution_count": 31,
   "id": "e978caba",
   "metadata": {},
   "outputs": [
    {
     "name": "stdout",
     "output_type": "stream",
     "text": [
      "WARNING:tensorflow:From C:\\Users\\tharukesh\\.designer\\Anaconda\\Lib\\site-packages\\keras\\src\\layers\\pooling\\max_pooling2d.py:161: The name tf.nn.max_pool is deprecated. Please use tf.nn.max_pool2d instead.\n",
      "\n"
     ]
    }
   ],
   "source": [
    "cnn = models.Sequential([\n",
    "    layers.Conv2D(filters= 32, kernel_size=(3,3), activation='relu', input_shape=(32,32,3)),\n",
    "    layers.MaxPooling2D((2,2)),\n",
    "    layers.Conv2D(filters= 62, kernel_size=(3,3), activation='relu', input_shape=(32,32,3)),\n",
    "    layers.MaxPooling2D((2,2)),\n",
    "    \n",
    "    layers.Flatten(),\n",
    "    layers.Dense(64, activation='relu'),\n",
    "    layers.Dense(32, activation='softmax')\n",
    "])"
   ]
  },
  {
   "cell_type": "code",
   "execution_count": 32,
   "id": "4a123e1c",
   "metadata": {},
   "outputs": [],
   "source": [
    "cnn.compile(optimizer='adam', loss = 'sparse_categorical_crossentropy', metrics=['accuracy'])"
   ]
  },
  {
   "cell_type": "code",
   "execution_count": 44,
   "id": "5708c527",
   "metadata": {},
   "outputs": [
    {
     "name": "stdout",
     "output_type": "stream",
     "text": [
      "Epoch 1/30\n",
      "1563/1563 [==============================] - 26s 17ms/step - loss: 1.3630 - accuracy: 0.5156\n",
      "Epoch 2/30\n",
      "1563/1563 [==============================] - 26s 17ms/step - loss: 1.3382 - accuracy: 0.5235\n",
      "Epoch 3/30\n",
      "1563/1563 [==============================] - 25s 16ms/step - loss: 1.3120 - accuracy: 0.5334\n",
      "Epoch 4/30\n",
      "1563/1563 [==============================] - 25s 16ms/step - loss: 1.2904 - accuracy: 0.5429\n",
      "Epoch 5/30\n",
      "1563/1563 [==============================] - 10s 6ms/step - loss: 1.2717 - accuracy: 0.5500\n",
      "Epoch 6/30\n",
      "1563/1563 [==============================] - 11s 7ms/step - loss: 1.2481 - accuracy: 0.5585\n",
      "Epoch 7/30\n",
      "1563/1563 [==============================] - 12s 7ms/step - loss: 1.2312 - accuracy: 0.5634\n",
      "Epoch 8/30\n",
      "1563/1563 [==============================] - 12s 7ms/step - loss: 1.2090 - accuracy: 0.5722\n",
      "Epoch 9/30\n",
      "1563/1563 [==============================] - 12s 8ms/step - loss: 1.1935 - accuracy: 0.5773\n",
      "Epoch 10/30\n",
      "1563/1563 [==============================] - 12s 8ms/step - loss: 1.1771 - accuracy: 0.5835\n",
      "Epoch 11/30\n",
      "1563/1563 [==============================] - 12s 8ms/step - loss: 1.1612 - accuracy: 0.5899\n",
      "Epoch 12/30\n",
      "1563/1563 [==============================] - 12s 8ms/step - loss: 1.1450 - accuracy: 0.5935\n",
      "Epoch 13/30\n",
      "1563/1563 [==============================] - 12s 8ms/step - loss: 1.1328 - accuracy: 0.6001\n",
      "Epoch 14/30\n",
      "1563/1563 [==============================] - 12s 8ms/step - loss: 1.1193 - accuracy: 0.6065\n",
      "Epoch 15/30\n",
      "1563/1563 [==============================] - 13s 8ms/step - loss: 1.1095 - accuracy: 0.6087\n",
      "Epoch 16/30\n",
      "1563/1563 [==============================] - 13s 8ms/step - loss: 1.0970 - accuracy: 0.6151\n",
      "Epoch 17/30\n",
      "1563/1563 [==============================] - 13s 8ms/step - loss: 1.0858 - accuracy: 0.6183\n",
      "Epoch 18/30\n",
      "1563/1563 [==============================] - 13s 8ms/step - loss: 1.0765 - accuracy: 0.6224\n",
      "Epoch 19/30\n",
      "1563/1563 [==============================] - 13s 9ms/step - loss: 1.0666 - accuracy: 0.6239\n",
      "Epoch 20/30\n",
      "1563/1563 [==============================] - 14s 9ms/step - loss: 1.0552 - accuracy: 0.6286\n",
      "Epoch 21/30\n",
      "1563/1563 [==============================] - 14s 9ms/step - loss: 1.0475 - accuracy: 0.6320\n",
      "Epoch 22/30\n",
      "1563/1563 [==============================] - 15s 10ms/step - loss: 1.0389 - accuracy: 0.6346\n",
      "Epoch 23/30\n",
      "1563/1563 [==============================] - 15s 9ms/step - loss: 1.0286 - accuracy: 0.6388\n",
      "Epoch 24/30\n",
      "1563/1563 [==============================] - 16s 10ms/step - loss: 1.0206 - accuracy: 0.6408\n",
      "Epoch 25/30\n",
      "1563/1563 [==============================] - 15s 10ms/step - loss: 1.0097 - accuracy: 0.6440\n",
      "Epoch 26/30\n",
      "1563/1563 [==============================] - 15s 10ms/step - loss: 1.0046 - accuracy: 0.6461\n",
      "Epoch 27/30\n",
      "1563/1563 [==============================] - 17s 11ms/step - loss: 0.9972 - accuracy: 0.6501\n",
      "Epoch 28/30\n",
      "1563/1563 [==============================] - 17s 11ms/step - loss: 0.9898 - accuracy: 0.6522\n",
      "Epoch 29/30\n",
      "1563/1563 [==============================] - 15s 10ms/step - loss: 0.9797 - accuracy: 0.6568\n",
      "Epoch 30/30\n",
      "1563/1563 [==============================] - 15s 10ms/step - loss: 0.9767 - accuracy: 0.6573\n"
     ]
    },
    {
     "data": {
      "text/plain": [
       "<keras.src.callbacks.History at 0x12b1c84ab90>"
      ]
     },
     "execution_count": 44,
     "metadata": {},
     "output_type": "execute_result"
    }
   ],
   "source": [
    "cnn.fit(x_train,y_train,epochs=30)"
   ]
  },
  {
   "cell_type": "code",
   "execution_count": 45,
   "id": "81639331",
   "metadata": {},
   "outputs": [
    {
     "name": "stdout",
     "output_type": "stream",
     "text": [
      "313/313 [==============================] - 1s 4ms/step - loss: 1.1730 - accuracy: 0.5992\n"
     ]
    },
    {
     "data": {
      "text/plain": [
       "[1.173030972480774, 0.5992000102996826]"
      ]
     },
     "execution_count": 45,
     "metadata": {},
     "output_type": "execute_result"
    }
   ],
   "source": [
    "cnn.evaluate(x_test,y_test)\n"
   ]
  },
  {
   "cell_type": "code",
   "execution_count": 46,
   "id": "8cb98b93",
   "metadata": {},
   "outputs": [
    {
     "name": "stdout",
     "output_type": "stream",
     "text": [
      "313/313 [==============================] - 1s 4ms/step\n"
     ]
    },
    {
     "data": {
      "text/plain": [
       "array([[1.51921520e-02, 8.20680907e-06, 3.78314435e-01, 3.10364276e-01,\n",
       "        1.41114322e-02, 2.69787550e-01, 1.39931962e-03, 2.25041644e-03,\n",
       "        8.55843909e-03, 1.37208090e-05, 3.46151694e-17, 4.89117653e-17,\n",
       "        8.00036317e-17, 4.95795880e-17, 6.04316252e-17, 6.42067981e-17,\n",
       "        1.58266551e-17, 5.68088256e-17, 2.05727495e-17, 1.01164553e-16,\n",
       "        2.49672226e-16, 4.81115971e-17, 1.15338478e-16, 1.59372280e-16,\n",
       "        8.90909651e-17, 2.25125078e-16, 2.59671367e-17, 3.16089833e-17,\n",
       "        3.93854571e-17, 3.73710169e-16, 4.17691825e-16, 1.10307671e-16],\n",
       "       [7.10072517e-02, 7.53083706e-01, 7.69187245e-05, 8.34105776e-06,\n",
       "        1.63852121e-06, 3.92872134e-05, 3.10955693e-06, 4.10064968e-05,\n",
       "        1.50721624e-01, 2.50170324e-02, 1.22820235e-14, 1.26593351e-14,\n",
       "        1.16935990e-14, 6.11649945e-14, 1.08808556e-14, 1.97897983e-14,\n",
       "        3.94060632e-14, 2.04341244e-14, 4.67082902e-14, 6.93728708e-15,\n",
       "        1.63220793e-14, 1.08440597e-14, 4.54491926e-14, 2.76938676e-14,\n",
       "        8.79182506e-15, 1.69497595e-14, 3.53304388e-14, 1.68672314e-14,\n",
       "        2.85466536e-14, 9.62889606e-15, 1.38806940e-14, 1.81411333e-14],\n",
       "       [5.74204661e-02, 6.29969597e-01, 1.98295549e-03, 2.00922112e-03,\n",
       "        4.67618556e-05, 1.61382218e-03, 1.77657246e-04, 2.20221147e-04,\n",
       "        2.63259202e-01, 4.33001034e-02, 1.07723895e-13, 1.29806281e-13,\n",
       "        1.32679417e-13, 2.88117512e-13, 1.48884675e-13, 2.37738757e-13,\n",
       "        2.46983911e-13, 1.46077689e-13, 2.62013420e-13, 1.06907599e-13,\n",
       "        1.28436487e-13, 1.12518962e-13, 3.37688753e-13, 2.76533435e-13,\n",
       "        1.80020644e-13, 1.70437828e-13, 3.09948600e-13, 1.36951174e-13,\n",
       "        2.15304920e-13, 2.00317966e-13, 1.51757757e-13, 1.14367202e-13],\n",
       "       [4.14423734e-01, 8.86595100e-02, 8.73732474e-03, 1.67710567e-03,\n",
       "        3.96920135e-04, 1.84897755e-04, 2.30400925e-04, 1.31991081e-04,\n",
       "        4.81537700e-01, 4.02036402e-03, 2.53899142e-13, 5.96297046e-13,\n",
       "        2.89709852e-13, 3.18061468e-13, 4.58275887e-13, 2.44338268e-13,\n",
       "        7.29367467e-13, 6.20079129e-13, 5.00268230e-13, 3.27465052e-13,\n",
       "        4.74896435e-13, 4.53699388e-13, 4.49593758e-13, 4.86009941e-13,\n",
       "        5.04823180e-13, 4.60726401e-13, 4.90369518e-13, 4.27717730e-13,\n",
       "        5.30143095e-13, 5.16166211e-13, 2.76276506e-13, 2.89501089e-13],\n",
       "       [3.41260129e-05, 1.56780152e-05, 6.98660985e-02, 8.28954875e-02,\n",
       "        1.55753300e-01, 4.39268723e-02, 6.47033811e-01, 3.31176678e-04,\n",
       "        3.41191480e-05, 1.09377936e-04, 6.35749843e-16, 6.35919673e-16,\n",
       "        2.10560257e-15, 2.00075916e-15, 1.31379268e-15, 2.87586638e-15,\n",
       "        5.46243183e-16, 1.57199627e-15, 1.09510507e-15, 2.09758561e-15,\n",
       "        1.18335490e-15, 9.65446565e-16, 6.66565632e-15, 5.90850839e-15,\n",
       "        5.06732802e-15, 2.46084438e-15, 1.12379366e-15, 4.98265861e-16,\n",
       "        6.47098020e-16, 2.00977773e-15, 2.26300967e-15, 2.88429309e-15]],\n",
       "      dtype=float32)"
      ]
     },
     "execution_count": 46,
     "metadata": {},
     "output_type": "execute_result"
    }
   ],
   "source": [
    "y_predict = cnn.predict(x_test)\n",
    "y_predict[:5]"
   ]
  },
  {
   "cell_type": "code",
   "execution_count": 47,
   "id": "10da41b8",
   "metadata": {},
   "outputs": [
    {
     "data": {
      "text/plain": [
       "[2, 1, 1, 8, 6]"
      ]
     },
     "execution_count": 47,
     "metadata": {},
     "output_type": "execute_result"
    }
   ],
   "source": [
    "y_classes = [np.argmax(element) for element in y_predict]\n",
    "y_classes[:5]"
   ]
  },
  {
   "cell_type": "code",
   "execution_count": 56,
   "id": "6fa33b27",
   "metadata": {},
   "outputs": [],
   "source": [
    "\n",
    "y_test = y_test.reshape(-1,)"
   ]
  },
  {
   "cell_type": "code",
   "execution_count": 57,
   "id": "0aed74d6",
   "metadata": {},
   "outputs": [
    {
     "data": {
      "text/plain": [
       "array([3, 8, 8, 0, 6], dtype=uint8)"
      ]
     },
     "execution_count": 57,
     "metadata": {},
     "output_type": "execute_result"
    }
   ],
   "source": [
    "y_test[:5]\n"
   ]
  },
  {
   "cell_type": "code",
   "execution_count": 61,
   "id": "4200a5a3",
   "metadata": {},
   "outputs": [
    {
     "data": {
      "image/png": "[encoded data removed]",
      "text/plain": [
       "<Figure size 1500x200 with 1 Axes>"
      ]
     },
     "metadata": {},
     "output_type": "display_data"
    }
   ],
   "source": [
    "plot_sample(x_test,y_test,4)"
   ]
  },
  {
   "cell_type": "code",
   "execution_count": 62,
   "id": "bc5c8ed0",
   "metadata": {},
   "outputs": [
    {
     "data": {
      "text/plain": [
       "'ship'"
      ]
     },
     "execution_count": 62,
     "metadata": {},
     "output_type": "execute_result"
    }
   ],
   "source": [
    "classes[y_classes[3]]"
   ]
  },
  {
   "cell_type": "code",
   "execution_count": null,
   "id": "6e61fc7b",
   "metadata": {},
   "outputs": [],
   "source": []
  }
 ],
 "metadata": {
  "kernelspec": {
   "display_name": "Python 3 (ipykernel)",
   "language": "python",
   "name": "python3"
  },
  "language_info": {
   "codemirror_mode": {
    "name": "ipython",
    "version": 3
   },
   "file_extension": ".py",
   "mimetype": "text/x-python",
   "name": "python",
   "nbconvert_exporter": "python",
   "pygments_lexer": "ipython3",
   "version": "3.11.5"
  }
 },
 "nbformat": 4,
 "nbformat_minor": 5
}
