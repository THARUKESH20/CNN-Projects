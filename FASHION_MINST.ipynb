{
  "nbformat": 4,
  "nbformat_minor": 0,
  "metadata": {
    "colab": {
      "provenance": []
    },
    "kernelspec": {
      "name": "python3",
      "display_name": "Python 3"
    },
    "language_info": {
      "name": "python"
    }
  },
  "cells": [
    {
      "cell_type": "code",
      "execution_count": 12,
      "metadata": {
        "id": "oWXIl4s4GLHZ"
      },
      "outputs": [],
      "source": [
        "import tensorflow as tf\n",
        "from tensorflow import keras\n",
        "from tensorflow.keras import models,datasets,layers\n",
        "import numpy as np"
      ]
    },
    {
      "cell_type": "code",
      "source": [
        "(x_train,y_train), (x_test,y_test) = datasets.fashion_mnist.load_data()"
      ],
      "metadata": {
        "colab": {
          "base_uri": "https://localhost:8080/"
        },
        "id": "Y3mBWzCbGy4F",
        "outputId": "79817d4c-4fba-4b79-ae14-18ba12d37552"
      },
      "execution_count": 13,
      "outputs": [
        {
          "output_type": "stream",
          "name": "stdout",
          "text": [
            "Downloading data from https://storage.googleapis.com/tensorflow/tf-keras-datasets/train-labels-idx1-ubyte.gz\n",
            "29515/29515 [==============================] - 0s 0us/step\n",
            "Downloading data from https://storage.googleapis.com/tensorflow/tf-keras-datasets/train-images-idx3-ubyte.gz\n",
            "26421880/26421880 [==============================] - 0s 0us/step\n",
            "Downloading data from https://storage.googleapis.com/tensorflow/tf-keras-datasets/t10k-labels-idx1-ubyte.gz\n",
            "5148/5148 [==============================] - 0s 0us/step\n",
            "Downloading data from https://storage.googleapis.com/tensorflow/tf-keras-datasets/t10k-images-idx3-ubyte.gz\n",
            "4422102/4422102 [==============================] - 0s 0us/step\n"
          ]
        }
      ]
    },
    {
      "cell_type": "code",
      "source": [
        "len(x_train)"
      ],
      "metadata": {
        "colab": {
          "base_uri": "https://localhost:8080/"
        },
        "id": "C9zBT2VHHYGj",
        "outputId": "397b2b9e-d336-4a93-aea0-9b1ffd1dfe1c"
      },
      "execution_count": 14,
      "outputs": [
        {
          "output_type": "execute_result",
          "data": {
            "text/plain": [
              "60000"
            ]
          },
          "metadata": {},
          "execution_count": 14
        }
      ]
    },
    {
      "cell_type": "code",
      "source": [
        "type(x_train)"
      ],
      "metadata": {
        "colab": {
          "base_uri": "https://localhost:8080/"
        },
        "id": "arE3Io8zHbas",
        "outputId": "dd0bcab4-46f9-4a4f-9529-a904eb8c2f3c"
      },
      "execution_count": 15,
      "outputs": [
        {
          "output_type": "execute_result",
          "data": {
            "text/plain": [
              "numpy.ndarray"
            ]
          },
          "metadata": {},
          "execution_count": 15
        }
      ]
    },
    {
      "cell_type": "code",
      "source": [
        "len(y_train)"
      ],
      "metadata": {
        "colab": {
          "base_uri": "https://localhost:8080/"
        },
        "id": "ALlwNKJtHeaq",
        "outputId": "25c2dc5f-dfad-4d3d-b5bd-5c60ce9bccc5"
      },
      "execution_count": 16,
      "outputs": [
        {
          "output_type": "execute_result",
          "data": {
            "text/plain": [
              "60000"
            ]
          },
          "metadata": {},
          "execution_count": 16
        }
      ]
    },
    {
      "cell_type": "code",
      "source": [
        "y_train[:4]"
      ],
      "metadata": {
        "colab": {
          "base_uri": "https://localhost:8080/"
        },
        "id": "QFAHrWquHjCD",
        "outputId": "8a500628-61d2-4b3d-c2c8-f6b253a1b077"
      },
      "execution_count": 17,
      "outputs": [
        {
          "output_type": "execute_result",
          "data": {
            "text/plain": [
              "array([9, 0, 0, 3], dtype=uint8)"
            ]
          },
          "metadata": {},
          "execution_count": 17
        }
      ]
    },
    {
      "cell_type": "code",
      "source": [
        "classes = [\"T-shirt/top\", \"Trouser\", \"Pullover\", \"Dress\", \"Coat\", \"Sandal\", \"Shirt\", \"Sneaker\", \"Bag\", \"Ankle boot\"]"
      ],
      "metadata": {
        "id": "lWXGuJgNHv91"
      },
      "execution_count": 18,
      "outputs": []
    },
    {
      "cell_type": "code",
      "source": [
        "classes"
      ],
      "metadata": {
        "colab": {
          "base_uri": "https://localhost:8080/"
        },
        "id": "fF_RdRjFIaO6",
        "outputId": "bf30fb8d-99b4-4d90-b2a2-b13c60e320c1"
      },
      "execution_count": 19,
      "outputs": [
        {
          "output_type": "execute_result",
          "data": {
            "text/plain": [
              "['T-shirt/top',\n",
              " 'Trouser',\n",
              " 'Pullover',\n",
              " 'Dress',\n",
              " 'Coat',\n",
              " 'Sandal',\n",
              " 'Shirt',\n",
              " 'Sneaker',\n",
              " 'Bag',\n",
              " 'Ankle boot']"
            ]
          },
          "metadata": {},
          "execution_count": 19
        }
      ]
    },
    {
      "cell_type": "code",
      "source": [
        "import matplotlib.pyplot as plt"
      ],
      "metadata": {
        "id": "EZ_mq9XDIinu"
      },
      "execution_count": 20,
      "outputs": []
    },
    {
      "cell_type": "code",
      "source": [
        "def plot_sample(x, y , index):\n",
        "    plt.figure(figsize=(15,2))\n",
        "    plt.imshow(x[index])\n",
        "    plt.xlabel(classes[y[index]])"
      ],
      "metadata": {
        "id": "-ECZRvgMIc7V"
      },
      "execution_count": 21,
      "outputs": []
    },
    {
      "cell_type": "code",
      "source": [
        "plot_sample(x_train,y_train, 1)"
      ],
      "metadata": {
        "colab": {
          "base_uri": "https://localhost:8080/",
          "height": 237
        },
        "id": "GLzZaUSAfWi_",
        "outputId": "6a02eff9-c678-44c2-b30a-d527d1944eb4"
      },
      "execution_count": 24,
      "outputs": [
        {
          "output_type": "display_data",
          "data": {
            "text/plain": [
              "<Figure size 1500x200 with 1 Axes>"
            ],
            "image/png": "[encoded data removed]"
          },
          "metadata": {}
        }
      ]
    },
    {
      "cell_type": "code",
      "source": [
        "x_train[1]"
      ],
      "metadata": {
        "colab": {
          "base_uri": "https://localhost:8080/"
        },
        "id": "SzI9uqi1fyK0",
        "outputId": "f42acd5d-e366-43a7-ae4d-5b767c6d9649"
      },
      "execution_count": 28,
      "outputs": [
        {
          "output_type": "execute_result",
          "data": {
            "text/plain": [
              "array([[0.        , 0.        , 0.        , 0.        , 0.        ,\n",
              "        0.00392157, 0.        , 0.        , 0.        , 0.        ,\n",
              "        0.16078431, 0.7372549 , 0.40392157, 0.21176471, 0.18823529,\n",
              "        0.16862745, 0.34117647, 0.65882353, 0.52156863, 0.0627451 ,\n",
              "        0.        , 0.        , 0.        , 0.        , 0.        ,\n",
              "        0.        , 0.        , 0.        ],\n",
              "       [0.        , 0.        , 0.        , 0.00392157, 0.        ,\n",
              "        0.        , 0.        , 0.19215686, 0.53333333, 0.85882353,\n",
              "        0.84705882, 0.89411765, 0.9254902 , 1.        , 1.        ,\n",
              "        1.        , 1.        , 0.85098039, 0.84313725, 0.99607843,\n",
              "        0.90588235, 0.62745098, 0.17647059, 0.        , 0.        ,\n",
              "        0.        , 0.        , 0.        ],\n",
              "       [0.        , 0.        , 0.        , 0.        , 0.        ,\n",
              "        0.05490196, 0.69019608, 0.87058824, 0.87843137, 0.83137255,\n",
              "        0.79607843, 0.77647059, 0.76862745, 0.78431373, 0.84313725,\n",
              "        0.8       , 0.79215686, 0.78823529, 0.78823529, 0.78823529,\n",
              "        0.81960784, 0.85490196, 0.87843137, 0.64313725, 0.        ,\n",
              "        0.        , 0.        , 0.        ],\n",
              "       [0.        , 0.        , 0.        , 0.        , 0.        ,\n",
              "        0.7372549 , 0.85882353, 0.78431373, 0.77647059, 0.79215686,\n",
              "        0.77647059, 0.78039216, 0.78039216, 0.78823529, 0.76862745,\n",
              "        0.77647059, 0.77647059, 0.78431373, 0.78431373, 0.78431373,\n",
              "        0.78431373, 0.78823529, 0.78431373, 0.88235294, 0.16078431,\n",
              "        0.        , 0.        , 0.        ],\n",
              "       [0.        , 0.        , 0.        , 0.        , 0.2       ,\n",
              "        0.85882353, 0.78039216, 0.79607843, 0.79607843, 0.83137255,\n",
              "        0.93333333, 0.97254902, 0.98039216, 0.96078431, 0.97647059,\n",
              "        0.96470588, 0.96862745, 0.98823529, 0.97254902, 0.92156863,\n",
              "        0.81176471, 0.79607843, 0.79607843, 0.87058824, 0.54901961,\n",
              "        0.        , 0.        , 0.        ],\n",
              "       [0.        , 0.        , 0.        , 0.        , 0.45490196,\n",
              "        0.88627451, 0.80784314, 0.8       , 0.81176471, 0.8       ,\n",
              "        0.39607843, 0.29411765, 0.18431373, 0.28627451, 0.18823529,\n",
              "        0.19607843, 0.17647059, 0.2       , 0.24705882, 0.44313725,\n",
              "        0.87058824, 0.79215686, 0.80784314, 0.8627451 , 0.87843137,\n",
              "        0.        , 0.        , 0.        ],\n",
              "       [0.        , 0.        , 0.        , 0.        , 0.78431373,\n",
              "        0.87058824, 0.81960784, 0.79607843, 0.84313725, 0.78431373,\n",
              "        0.        , 0.2745098 , 0.38431373, 0.        , 0.40392157,\n",
              "        0.23137255, 0.26666667, 0.27843137, 0.19215686, 0.        ,\n",
              "        0.85882353, 0.80784314, 0.83921569, 0.82352941, 0.98039216,\n",
              "        0.14901961, 0.        , 0.        ],\n",
              "       [0.        , 0.        , 0.        , 0.        , 0.96862745,\n",
              "        0.85490196, 0.83137255, 0.82352941, 0.84313725, 0.83921569,\n",
              "        0.        , 0.99607843, 0.95294118, 0.54509804, 1.        ,\n",
              "        0.68235294, 0.98431373, 1.        , 0.80392157, 0.        ,\n",
              "        0.84313725, 0.85098039, 0.83921569, 0.81568627, 0.8627451 ,\n",
              "        0.37254902, 0.        , 0.        ],\n",
              "       [0.        , 0.        , 0.        , 0.17647059, 0.88627451,\n",
              "        0.83921569, 0.83921569, 0.84313725, 0.87843137, 0.80392157,\n",
              "        0.        , 0.16470588, 0.1372549 , 0.23529412, 0.0627451 ,\n",
              "        0.06666667, 0.04705882, 0.05098039, 0.2745098 , 0.        ,\n",
              "        0.74117647, 0.84705882, 0.83137255, 0.80784314, 0.83137255,\n",
              "        0.61176471, 0.        , 0.        ],\n",
              "       [0.        , 0.        , 0.        , 0.64313725, 0.92156863,\n",
              "        0.83921569, 0.82745098, 0.8627451 , 0.84705882, 0.78823529,\n",
              "        0.20392157, 0.27843137, 0.34901961, 0.36862745, 0.3254902 ,\n",
              "        0.30588235, 0.2745098 , 0.29803922, 0.36078431, 0.34117647,\n",
              "        0.80784314, 0.81176471, 0.87058824, 0.83529412, 0.85882353,\n",
              "        0.81568627, 0.        , 0.        ],\n",
              "       [0.        , 0.        , 0.        , 0.41568627, 0.73333333,\n",
              "        0.8745098 , 0.92941176, 0.97254902, 0.82745098, 0.77647059,\n",
              "        0.98823529, 0.98039216, 0.97254902, 0.96078431, 0.97254902,\n",
              "        0.98823529, 0.99215686, 0.98039216, 0.98823529, 0.9372549 ,\n",
              "        0.78823529, 0.83137255, 0.88235294, 0.84313725, 0.75686275,\n",
              "        0.44313725, 0.        , 0.        ],\n",
              "       [0.        , 0.        , 0.        , 0.        , 0.        ,\n",
              "        0.06666667, 0.21176471, 0.62352941, 0.87058824, 0.75686275,\n",
              "        0.81568627, 0.75294118, 0.77254902, 0.78431373, 0.78431373,\n",
              "        0.78431373, 0.78431373, 0.78823529, 0.79607843, 0.76470588,\n",
              "        0.82352941, 0.64705882, 0.        , 0.        , 0.        ,\n",
              "        0.        , 0.        , 0.        ],\n",
              "       [0.        , 0.        , 0.        , 0.        , 0.        ,\n",
              "        0.        , 0.        , 0.18431373, 0.88235294, 0.75294118,\n",
              "        0.83921569, 0.79607843, 0.80784314, 0.8       , 0.8       ,\n",
              "        0.80392157, 0.80784314, 0.8       , 0.83137255, 0.77254902,\n",
              "        0.85490196, 0.41960784, 0.        , 0.        , 0.        ,\n",
              "        0.        , 0.        , 0.        ],\n",
              "       [0.        , 0.        , 0.        , 0.        , 0.00392157,\n",
              "        0.02352941, 0.        , 0.18039216, 0.83137255, 0.76470588,\n",
              "        0.83137255, 0.79215686, 0.80784314, 0.80392157, 0.8       ,\n",
              "        0.80392157, 0.80784314, 0.8       , 0.83137255, 0.78431373,\n",
              "        0.85490196, 0.35686275, 0.        , 0.01176471, 0.00392157,\n",
              "        0.        , 0.        , 0.        ],\n",
              "       [0.        , 0.        , 0.        , 0.        , 0.        ,\n",
              "        0.00392157, 0.        , 0.04313725, 0.77254902, 0.78039216,\n",
              "        0.80392157, 0.79215686, 0.80392157, 0.80784314, 0.8       ,\n",
              "        0.80392157, 0.81176471, 0.8       , 0.80392157, 0.80392157,\n",
              "        0.85490196, 0.30196078, 0.        , 0.01960784, 0.        ,\n",
              "        0.        , 0.        , 0.        ],\n",
              "       [0.        , 0.        , 0.        , 0.        , 0.        ,\n",
              "        0.01176471, 0.        , 0.00784314, 0.74901961, 0.77647059,\n",
              "        0.78823529, 0.80392157, 0.80784314, 0.80392157, 0.80392157,\n",
              "        0.80784314, 0.81960784, 0.80784314, 0.78039216, 0.81960784,\n",
              "        0.85882353, 0.29019608, 0.        , 0.01960784, 0.        ,\n",
              "        0.        , 0.        , 0.        ],\n",
              "       [0.        , 0.        , 0.        , 0.        , 0.        ,\n",
              "        0.00784314, 0.        , 0.        , 0.7372549 , 0.77254902,\n",
              "        0.78431373, 0.81176471, 0.81176471, 0.8       , 0.81176471,\n",
              "        0.81176471, 0.82352941, 0.81568627, 0.77647059, 0.81176471,\n",
              "        0.86666667, 0.28235294, 0.        , 0.01568627, 0.        ,\n",
              "        0.        , 0.        , 0.        ],\n",
              "       [0.        , 0.        , 0.        , 0.        , 0.        ,\n",
              "        0.00784314, 0.        , 0.        , 0.84313725, 0.77647059,\n",
              "        0.79607843, 0.80784314, 0.81568627, 0.80392157, 0.81176471,\n",
              "        0.81176471, 0.82352941, 0.81568627, 0.78431373, 0.79215686,\n",
              "        0.87058824, 0.29411765, 0.        , 0.01568627, 0.        ,\n",
              "        0.        , 0.        , 0.        ],\n",
              "       [0.        , 0.        , 0.        , 0.        , 0.        ,\n",
              "        0.00392157, 0.        , 0.        , 0.83137255, 0.77647059,\n",
              "        0.81960784, 0.80784314, 0.81960784, 0.80784314, 0.81568627,\n",
              "        0.81176471, 0.82745098, 0.80784314, 0.80392157, 0.77647059,\n",
              "        0.86666667, 0.31372549, 0.        , 0.01176471, 0.        ,\n",
              "        0.        , 0.        , 0.        ],\n",
              "       [0.        , 0.        , 0.        , 0.        , 0.        ,\n",
              "        0.00392157, 0.        , 0.        , 0.8       , 0.78823529,\n",
              "        0.80392157, 0.81568627, 0.81176471, 0.80392157, 0.82745098,\n",
              "        0.80392157, 0.82352941, 0.82352941, 0.81960784, 0.76470588,\n",
              "        0.86666667, 0.37647059, 0.        , 0.01176471, 0.        ,\n",
              "        0.        , 0.        , 0.        ],\n",
              "       [0.        , 0.        , 0.        , 0.        , 0.        ,\n",
              "        0.00392157, 0.        , 0.        , 0.79215686, 0.78823529,\n",
              "        0.80392157, 0.81960784, 0.81176471, 0.80392157, 0.83529412,\n",
              "        0.80784314, 0.82352941, 0.81960784, 0.82352941, 0.76078431,\n",
              "        0.85098039, 0.41176471, 0.        , 0.00784314, 0.        ,\n",
              "        0.        , 0.        , 0.        ],\n",
              "       [0.        , 0.        , 0.        , 0.        , 0.        ,\n",
              "        0.00392157, 0.        , 0.        , 0.8       , 0.8       ,\n",
              "        0.80392157, 0.81568627, 0.81176471, 0.80392157, 0.84313725,\n",
              "        0.81176471, 0.82352941, 0.81568627, 0.82745098, 0.75686275,\n",
              "        0.83529412, 0.45098039, 0.        , 0.00784314, 0.        ,\n",
              "        0.        , 0.        , 0.        ],\n",
              "       [0.        , 0.        , 0.        , 0.        , 0.        ,\n",
              "        0.        , 0.        , 0.        , 0.8       , 0.81176471,\n",
              "        0.81176471, 0.81568627, 0.80784314, 0.80784314, 0.84313725,\n",
              "        0.82352941, 0.82352941, 0.81176471, 0.83137255, 0.76470588,\n",
              "        0.82352941, 0.4627451 , 0.        , 0.00784314, 0.        ,\n",
              "        0.        , 0.        , 0.        ],\n",
              "       [0.        , 0.        , 0.        , 0.        , 0.        ,\n",
              "        0.00392157, 0.        , 0.        , 0.77647059, 0.81568627,\n",
              "        0.81568627, 0.81568627, 0.8       , 0.81176471, 0.83137255,\n",
              "        0.83137255, 0.82352941, 0.81176471, 0.82745098, 0.76862745,\n",
              "        0.81176471, 0.4745098 , 0.        , 0.00392157, 0.        ,\n",
              "        0.        , 0.        , 0.        ],\n",
              "       [0.        , 0.        , 0.        , 0.        , 0.        ,\n",
              "        0.00392157, 0.        , 0.        , 0.77647059, 0.82352941,\n",
              "        0.81176471, 0.81568627, 0.80784314, 0.81960784, 0.83529412,\n",
              "        0.83137255, 0.82745098, 0.81176471, 0.82352941, 0.77254902,\n",
              "        0.81176471, 0.48627451, 0.        , 0.00392157, 0.        ,\n",
              "        0.        , 0.        , 0.        ],\n",
              "       [0.        , 0.        , 0.        , 0.        , 0.        ,\n",
              "        0.        , 0.        , 0.        , 0.6745098 , 0.82352941,\n",
              "        0.79607843, 0.78823529, 0.78039216, 0.8       , 0.81176471,\n",
              "        0.80392157, 0.8       , 0.78823529, 0.80392157, 0.77254902,\n",
              "        0.80784314, 0.49803922, 0.        , 0.        , 0.        ,\n",
              "        0.        , 0.        , 0.        ],\n",
              "       [0.        , 0.        , 0.        , 0.        , 0.        ,\n",
              "        0.        , 0.        , 0.        , 0.7372549 , 0.86666667,\n",
              "        0.83921569, 0.91764706, 0.9254902 , 0.93333333, 0.95686275,\n",
              "        0.95686275, 0.95686275, 0.94117647, 0.95294118, 0.83921569,\n",
              "        0.87843137, 0.63529412, 0.        , 0.00784314, 0.        ,\n",
              "        0.        , 0.        , 0.        ],\n",
              "       [0.        , 0.        , 0.        , 0.        , 0.        ,\n",
              "        0.00392157, 0.        , 0.        , 0.54509804, 0.57254902,\n",
              "        0.50980392, 0.52941176, 0.52941176, 0.5372549 , 0.49019608,\n",
              "        0.48627451, 0.49019608, 0.4745098 , 0.46666667, 0.44705882,\n",
              "        0.50980392, 0.29803922, 0.        , 0.        , 0.        ,\n",
              "        0.        , 0.        , 0.        ]])"
            ]
          },
          "metadata": {},
          "execution_count": 28
        }
      ]
    },
    {
      "cell_type": "code",
      "source": [
        "plot_sample(x_train,y_train, 9)"
      ],
      "metadata": {
        "colab": {
          "base_uri": "https://localhost:8080/",
          "height": 237
        },
        "id": "Hopue7wtgZOt",
        "outputId": "139123de-19a1-4c9f-b435-aff6832ce3f5"
      },
      "execution_count": 25,
      "outputs": [
        {
          "output_type": "display_data",
          "data": {
            "text/plain": [
              "<Figure size 1500x200 with 1 Axes>"
            ],
            "image/png": "[encoded data removed]"
          },
          "metadata": {}
        }
      ]
    },
    {
      "cell_type": "code",
      "source": [
        "x_train = x_train/255\n",
        "x_test = x_test/255"
      ],
      "metadata": {
        "id": "NQo9XdcngsR0"
      },
      "execution_count": 26,
      "outputs": []
    },
    {
      "cell_type": "code",
      "source": [
        "x_train[1]"
      ],
      "metadata": {
        "colab": {
          "base_uri": "https://localhost:8080/"
        },
        "id": "vUvccazbg16c",
        "outputId": "c7e1240d-0b0a-42d3-9fbe-79298b044e0c"
      },
      "execution_count": 27,
      "outputs": [
        {
          "output_type": "execute_result",
          "data": {
            "text/plain": [
              "array([[0.        , 0.        , 0.        , 0.        , 0.        ,\n",
              "        0.00392157, 0.        , 0.        , 0.        , 0.        ,\n",
              "        0.16078431, 0.7372549 , 0.40392157, 0.21176471, 0.18823529,\n",
              "        0.16862745, 0.34117647, 0.65882353, 0.52156863, 0.0627451 ,\n",
              "        0.        , 0.        , 0.        , 0.        , 0.        ,\n",
              "        0.        , 0.        , 0.        ],\n",
              "       [0.        , 0.        , 0.        , 0.00392157, 0.        ,\n",
              "        0.        , 0.        , 0.19215686, 0.53333333, 0.85882353,\n",
              "        0.84705882, 0.89411765, 0.9254902 , 1.        , 1.        ,\n",
              "        1.        , 1.        , 0.85098039, 0.84313725, 0.99607843,\n",
              "        0.90588235, 0.62745098, 0.17647059, 0.        , 0.        ,\n",
              "        0.        , 0.        , 0.        ],\n",
              "       [0.        , 0.        , 0.        , 0.        , 0.        ,\n",
              "        0.05490196, 0.69019608, 0.87058824, 0.87843137, 0.83137255,\n",
              "        0.79607843, 0.77647059, 0.76862745, 0.78431373, 0.84313725,\n",
              "        0.8       , 0.79215686, 0.78823529, 0.78823529, 0.78823529,\n",
              "        0.81960784, 0.85490196, 0.87843137, 0.64313725, 0.        ,\n",
              "        0.        , 0.        , 0.        ],\n",
              "       [0.        , 0.        , 0.        , 0.        , 0.        ,\n",
              "        0.7372549 , 0.85882353, 0.78431373, 0.77647059, 0.79215686,\n",
              "        0.77647059, 0.78039216, 0.78039216, 0.78823529, 0.76862745,\n",
              "        0.77647059, 0.77647059, 0.78431373, 0.78431373, 0.78431373,\n",
              "        0.78431373, 0.78823529, 0.78431373, 0.88235294, 0.16078431,\n",
              "        0.        , 0.        , 0.        ],\n",
              "       [0.        , 0.        , 0.        , 0.        , 0.2       ,\n",
              "        0.85882353, 0.78039216, 0.79607843, 0.79607843, 0.83137255,\n",
              "        0.93333333, 0.97254902, 0.98039216, 0.96078431, 0.97647059,\n",
              "        0.96470588, 0.96862745, 0.98823529, 0.97254902, 0.92156863,\n",
              "        0.81176471, 0.79607843, 0.79607843, 0.87058824, 0.54901961,\n",
              "        0.        , 0.        , 0.        ],\n",
              "       [0.        , 0.        , 0.        , 0.        , 0.45490196,\n",
              "        0.88627451, 0.80784314, 0.8       , 0.81176471, 0.8       ,\n",
              "        0.39607843, 0.29411765, 0.18431373, 0.28627451, 0.18823529,\n",
              "        0.19607843, 0.17647059, 0.2       , 0.24705882, 0.44313725,\n",
              "        0.87058824, 0.79215686, 0.80784314, 0.8627451 , 0.87843137,\n",
              "        0.        , 0.        , 0.        ],\n",
              "       [0.        , 0.        , 0.        , 0.        , 0.78431373,\n",
              "        0.87058824, 0.81960784, 0.79607843, 0.84313725, 0.78431373,\n",
              "        0.        , 0.2745098 , 0.38431373, 0.        , 0.40392157,\n",
              "        0.23137255, 0.26666667, 0.27843137, 0.19215686, 0.        ,\n",
              "        0.85882353, 0.80784314, 0.83921569, 0.82352941, 0.98039216,\n",
              "        0.14901961, 0.        , 0.        ],\n",
              "       [0.        , 0.        , 0.        , 0.        , 0.96862745,\n",
              "        0.85490196, 0.83137255, 0.82352941, 0.84313725, 0.83921569,\n",
              "        0.        , 0.99607843, 0.95294118, 0.54509804, 1.        ,\n",
              "        0.68235294, 0.98431373, 1.        , 0.80392157, 0.        ,\n",
              "        0.84313725, 0.85098039, 0.83921569, 0.81568627, 0.8627451 ,\n",
              "        0.37254902, 0.        , 0.        ],\n",
              "       [0.        , 0.        , 0.        , 0.17647059, 0.88627451,\n",
              "        0.83921569, 0.83921569, 0.84313725, 0.87843137, 0.80392157,\n",
              "        0.        , 0.16470588, 0.1372549 , 0.23529412, 0.0627451 ,\n",
              "        0.06666667, 0.04705882, 0.05098039, 0.2745098 , 0.        ,\n",
              "        0.74117647, 0.84705882, 0.83137255, 0.80784314, 0.83137255,\n",
              "        0.61176471, 0.        , 0.        ],\n",
              "       [0.        , 0.        , 0.        , 0.64313725, 0.92156863,\n",
              "        0.83921569, 0.82745098, 0.8627451 , 0.84705882, 0.78823529,\n",
              "        0.20392157, 0.27843137, 0.34901961, 0.36862745, 0.3254902 ,\n",
              "        0.30588235, 0.2745098 , 0.29803922, 0.36078431, 0.34117647,\n",
              "        0.80784314, 0.81176471, 0.87058824, 0.83529412, 0.85882353,\n",
              "        0.81568627, 0.        , 0.        ],\n",
              "       [0.        , 0.        , 0.        , 0.41568627, 0.73333333,\n",
              "        0.8745098 , 0.92941176, 0.97254902, 0.82745098, 0.77647059,\n",
              "        0.98823529, 0.98039216, 0.97254902, 0.96078431, 0.97254902,\n",
              "        0.98823529, 0.99215686, 0.98039216, 0.98823529, 0.9372549 ,\n",
              "        0.78823529, 0.83137255, 0.88235294, 0.84313725, 0.75686275,\n",
              "        0.44313725, 0.        , 0.        ],\n",
              "       [0.        , 0.        , 0.        , 0.        , 0.        ,\n",
              "        0.06666667, 0.21176471, 0.62352941, 0.87058824, 0.75686275,\n",
              "        0.81568627, 0.75294118, 0.77254902, 0.78431373, 0.78431373,\n",
              "        0.78431373, 0.78431373, 0.78823529, 0.79607843, 0.76470588,\n",
              "        0.82352941, 0.64705882, 0.        , 0.        , 0.        ,\n",
              "        0.        , 0.        , 0.        ],\n",
              "       [0.        , 0.        , 0.        , 0.        , 0.        ,\n",
              "        0.        , 0.        , 0.18431373, 0.88235294, 0.75294118,\n",
              "        0.83921569, 0.79607843, 0.80784314, 0.8       , 0.8       ,\n",
              "        0.80392157, 0.80784314, 0.8       , 0.83137255, 0.77254902,\n",
              "        0.85490196, 0.41960784, 0.        , 0.        , 0.        ,\n",
              "        0.        , 0.        , 0.        ],\n",
              "       [0.        , 0.        , 0.        , 0.        , 0.00392157,\n",
              "        0.02352941, 0.        , 0.18039216, 0.83137255, 0.76470588,\n",
              "        0.83137255, 0.79215686, 0.80784314, 0.80392157, 0.8       ,\n",
              "        0.80392157, 0.80784314, 0.8       , 0.83137255, 0.78431373,\n",
              "        0.85490196, 0.35686275, 0.        , 0.01176471, 0.00392157,\n",
              "        0.        , 0.        , 0.        ],\n",
              "       [0.        , 0.        , 0.        , 0.        , 0.        ,\n",
              "        0.00392157, 0.        , 0.04313725, 0.77254902, 0.78039216,\n",
              "        0.80392157, 0.79215686, 0.80392157, 0.80784314, 0.8       ,\n",
              "        0.80392157, 0.81176471, 0.8       , 0.80392157, 0.80392157,\n",
              "        0.85490196, 0.30196078, 0.        , 0.01960784, 0.        ,\n",
              "        0.        , 0.        , 0.        ],\n",
              "       [0.        , 0.        , 0.        , 0.        , 0.        ,\n",
              "        0.01176471, 0.        , 0.00784314, 0.74901961, 0.77647059,\n",
              "        0.78823529, 0.80392157, 0.80784314, 0.80392157, 0.80392157,\n",
              "        0.80784314, 0.81960784, 0.80784314, 0.78039216, 0.81960784,\n",
              "        0.85882353, 0.29019608, 0.        , 0.01960784, 0.        ,\n",
              "        0.        , 0.        , 0.        ],\n",
              "       [0.        , 0.        , 0.        , 0.        , 0.        ,\n",
              "        0.00784314, 0.        , 0.        , 0.7372549 , 0.77254902,\n",
              "        0.78431373, 0.81176471, 0.81176471, 0.8       , 0.81176471,\n",
              "        0.81176471, 0.82352941, 0.81568627, 0.77647059, 0.81176471,\n",
              "        0.86666667, 0.28235294, 0.        , 0.01568627, 0.        ,\n",
              "        0.        , 0.        , 0.        ],\n",
              "       [0.        , 0.        , 0.        , 0.        , 0.        ,\n",
              "        0.00784314, 0.        , 0.        , 0.84313725, 0.77647059,\n",
              "        0.79607843, 0.80784314, 0.81568627, 0.80392157, 0.81176471,\n",
              "        0.81176471, 0.82352941, 0.81568627, 0.78431373, 0.79215686,\n",
              "        0.87058824, 0.29411765, 0.        , 0.01568627, 0.        ,\n",
              "        0.        , 0.        , 0.        ],\n",
              "       [0.        , 0.        , 0.        , 0.        , 0.        ,\n",
              "        0.00392157, 0.        , 0.        , 0.83137255, 0.77647059,\n",
              "        0.81960784, 0.80784314, 0.81960784, 0.80784314, 0.81568627,\n",
              "        0.81176471, 0.82745098, 0.80784314, 0.80392157, 0.77647059,\n",
              "        0.86666667, 0.31372549, 0.        , 0.01176471, 0.        ,\n",
              "        0.        , 0.        , 0.        ],\n",
              "       [0.        , 0.        , 0.        , 0.        , 0.        ,\n",
              "        0.00392157, 0.        , 0.        , 0.8       , 0.78823529,\n",
              "        0.80392157, 0.81568627, 0.81176471, 0.80392157, 0.82745098,\n",
              "        0.80392157, 0.82352941, 0.82352941, 0.81960784, 0.76470588,\n",
              "        0.86666667, 0.37647059, 0.        , 0.01176471, 0.        ,\n",
              "        0.        , 0.        , 0.        ],\n",
              "       [0.        , 0.        , 0.        , 0.        , 0.        ,\n",
              "        0.00392157, 0.        , 0.        , 0.79215686, 0.78823529,\n",
              "        0.80392157, 0.81960784, 0.81176471, 0.80392157, 0.83529412,\n",
              "        0.80784314, 0.82352941, 0.81960784, 0.82352941, 0.76078431,\n",
              "        0.85098039, 0.41176471, 0.        , 0.00784314, 0.        ,\n",
              "        0.        , 0.        , 0.        ],\n",
              "       [0.        , 0.        , 0.        , 0.        , 0.        ,\n",
              "        0.00392157, 0.        , 0.        , 0.8       , 0.8       ,\n",
              "        0.80392157, 0.81568627, 0.81176471, 0.80392157, 0.84313725,\n",
              "        0.81176471, 0.82352941, 0.81568627, 0.82745098, 0.75686275,\n",
              "        0.83529412, 0.45098039, 0.        , 0.00784314, 0.        ,\n",
              "        0.        , 0.        , 0.        ],\n",
              "       [0.        , 0.        , 0.        , 0.        , 0.        ,\n",
              "        0.        , 0.        , 0.        , 0.8       , 0.81176471,\n",
              "        0.81176471, 0.81568627, 0.80784314, 0.80784314, 0.84313725,\n",
              "        0.82352941, 0.82352941, 0.81176471, 0.83137255, 0.76470588,\n",
              "        0.82352941, 0.4627451 , 0.        , 0.00784314, 0.        ,\n",
              "        0.        , 0.        , 0.        ],\n",
              "       [0.        , 0.        , 0.        , 0.        , 0.        ,\n",
              "        0.00392157, 0.        , 0.        , 0.77647059, 0.81568627,\n",
              "        0.81568627, 0.81568627, 0.8       , 0.81176471, 0.83137255,\n",
              "        0.83137255, 0.82352941, 0.81176471, 0.82745098, 0.76862745,\n",
              "        0.81176471, 0.4745098 , 0.        , 0.00392157, 0.        ,\n",
              "        0.        , 0.        , 0.        ],\n",
              "       [0.        , 0.        , 0.        , 0.        , 0.        ,\n",
              "        0.00392157, 0.        , 0.        , 0.77647059, 0.82352941,\n",
              "        0.81176471, 0.81568627, 0.80784314, 0.81960784, 0.83529412,\n",
              "        0.83137255, 0.82745098, 0.81176471, 0.82352941, 0.77254902,\n",
              "        0.81176471, 0.48627451, 0.        , 0.00392157, 0.        ,\n",
              "        0.        , 0.        , 0.        ],\n",
              "       [0.        , 0.        , 0.        , 0.        , 0.        ,\n",
              "        0.        , 0.        , 0.        , 0.6745098 , 0.82352941,\n",
              "        0.79607843, 0.78823529, 0.78039216, 0.8       , 0.81176471,\n",
              "        0.80392157, 0.8       , 0.78823529, 0.80392157, 0.77254902,\n",
              "        0.80784314, 0.49803922, 0.        , 0.        , 0.        ,\n",
              "        0.        , 0.        , 0.        ],\n",
              "       [0.        , 0.        , 0.        , 0.        , 0.        ,\n",
              "        0.        , 0.        , 0.        , 0.7372549 , 0.86666667,\n",
              "        0.83921569, 0.91764706, 0.9254902 , 0.93333333, 0.95686275,\n",
              "        0.95686275, 0.95686275, 0.94117647, 0.95294118, 0.83921569,\n",
              "        0.87843137, 0.63529412, 0.        , 0.00784314, 0.        ,\n",
              "        0.        , 0.        , 0.        ],\n",
              "       [0.        , 0.        , 0.        , 0.        , 0.        ,\n",
              "        0.00392157, 0.        , 0.        , 0.54509804, 0.57254902,\n",
              "        0.50980392, 0.52941176, 0.52941176, 0.5372549 , 0.49019608,\n",
              "        0.48627451, 0.49019608, 0.4745098 , 0.46666667, 0.44705882,\n",
              "        0.50980392, 0.29803922, 0.        , 0.        , 0.        ,\n",
              "        0.        , 0.        , 0.        ]])"
            ]
          },
          "metadata": {},
          "execution_count": 27
        }
      ]
    },
    {
      "cell_type": "code",
      "source": [
        "model = models.Sequential()\n",
        "model.add(layers.Conv2D(32, (3, 3), activation='relu', input_shape=(28, 28, 1)))\n",
        "model.add(layers.MaxPooling2D((2, 2)))\n",
        "model.add(layers.Conv2D(64, (3, 3), activation='relu'))\n",
        "model.add(layers.MaxPooling2D((2, 2)))\n",
        "model.add(layers.Conv2D(64, (3, 3), activation='relu'))\n",
        "\n",
        "# Add Dense layers on top\n",
        "model.add(layers.Flatten())\n",
        "model.add(layers.Dense(64, activation='relu'))\n",
        "model.add(layers.Dense(10))"
      ],
      "metadata": {
        "id": "rdcWNaWAh_Fa"
      },
      "execution_count": 50,
      "outputs": []
    },
    {
      "cell_type": "code",
      "source": [
        "model.compile(optimizer='adam',\n",
        "              loss=tf.keras.losses.SparseCategoricalCrossentropy(from_logits=True),\n",
        "              metrics=['accuracy'])"
      ],
      "metadata": {
        "id": "ILfAg-_2iAxo"
      },
      "execution_count": 51,
      "outputs": []
    },
    {
      "cell_type": "code",
      "source": [
        "model.fit(x_train,y_train, epochs = 20)"
      ],
      "metadata": {
        "colab": {
          "base_uri": "https://localhost:8080/"
        },
        "id": "v8Ua-XU9jY37",
        "outputId": "f2b5214b-698b-4a4e-d634-456b8b98bd23"
      },
      "execution_count": 52,
      "outputs": [
        {
          "output_type": "stream",
          "name": "stdout",
          "text": [
            "Epoch 1/20\n",
            "1875/1875 [==============================] - 58s 30ms/step - loss: 0.5052 - accuracy: 0.8155\n",
            "Epoch 2/20\n",
            "1875/1875 [==============================] - 55s 29ms/step - loss: 0.3232 - accuracy: 0.8831\n",
            "Epoch 3/20\n",
            "1875/1875 [==============================] - 54s 29ms/step - loss: 0.2741 - accuracy: 0.8999\n",
            "Epoch 4/20\n",
            "1875/1875 [==============================] - 54s 29ms/step - loss: 0.2469 - accuracy: 0.9089\n",
            "Epoch 5/20\n",
            "1875/1875 [==============================] - 54s 29ms/step - loss: 0.2204 - accuracy: 0.9191\n",
            "Epoch 6/20\n",
            "1875/1875 [==============================] - 53s 28ms/step - loss: 0.2019 - accuracy: 0.9249\n",
            "Epoch 7/20\n",
            "1875/1875 [==============================] - 53s 28ms/step - loss: 0.1859 - accuracy: 0.9309\n",
            "Epoch 8/20\n",
            "1875/1875 [==============================] - 53s 28ms/step - loss: 0.1696 - accuracy: 0.9366\n",
            "Epoch 9/20\n",
            "1875/1875 [==============================] - 53s 28ms/step - loss: 0.1577 - accuracy: 0.9405\n",
            "Epoch 10/20\n",
            "1875/1875 [==============================] - 54s 29ms/step - loss: 0.1430 - accuracy: 0.9462\n",
            "Epoch 11/20\n",
            "1875/1875 [==============================] - 53s 28ms/step - loss: 0.1288 - accuracy: 0.9514\n",
            "Epoch 12/20\n",
            "1875/1875 [==============================] - 53s 28ms/step - loss: 0.1220 - accuracy: 0.9535\n",
            "Epoch 13/20\n",
            "1875/1875 [==============================] - 53s 28ms/step - loss: 0.1129 - accuracy: 0.9574\n",
            "Epoch 14/20\n",
            "1875/1875 [==============================] - 54s 29ms/step - loss: 0.1053 - accuracy: 0.9603\n",
            "Epoch 15/20\n",
            "1875/1875 [==============================] - 55s 29ms/step - loss: 0.0967 - accuracy: 0.9630\n",
            "Epoch 16/20\n",
            "1875/1875 [==============================] - 54s 29ms/step - loss: 0.0880 - accuracy: 0.9664\n",
            "Epoch 17/20\n",
            "1875/1875 [==============================] - 53s 28ms/step - loss: 0.0841 - accuracy: 0.9679\n",
            "Epoch 18/20\n",
            "1875/1875 [==============================] - 53s 28ms/step - loss: 0.0759 - accuracy: 0.9710\n",
            "Epoch 19/20\n",
            "1875/1875 [==============================] - 53s 28ms/step - loss: 0.0758 - accuracy: 0.9704\n",
            "Epoch 20/20\n",
            "1875/1875 [==============================] - 54s 29ms/step - loss: 0.0709 - accuracy: 0.9725\n"
          ]
        },
        {
          "output_type": "execute_result",
          "data": {
            "text/plain": [
              "<keras.src.callbacks.History at 0x7d0f31c385b0>"
            ]
          },
          "metadata": {},
          "execution_count": 52
        }
      ]
    },
    {
      "cell_type": "code",
      "source": [
        "model.evaluate(x_test,y_test)"
      ],
      "metadata": {
        "colab": {
          "base_uri": "https://localhost:8080/"
        },
        "id": "SFLWFXSQptY9",
        "outputId": "a6f00728-e9b9-4d52-bee5-628301666f6b"
      },
      "execution_count": 54,
      "outputs": [
        {
          "output_type": "stream",
          "name": "stdout",
          "text": [
            "313/313 [==============================] - 4s 13ms/step - loss: 0.4051 - accuracy: 0.9092\n"
          ]
        },
        {
          "output_type": "execute_result",
          "data": {
            "text/plain": [
              "[0.40513914823532104, 0.9092000126838684]"
            ]
          },
          "metadata": {},
          "execution_count": 54
        }
      ]
    },
    {
      "cell_type": "code",
      "source": [],
      "metadata": {
        "id": "6lt9hEtLt8PH"
      },
      "execution_count": null,
      "outputs": []
    }
  ]
}